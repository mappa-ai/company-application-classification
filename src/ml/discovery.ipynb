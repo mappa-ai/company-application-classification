{
 "cells": [
  {
   "cell_type": "code",
   "execution_count": 1,
   "id": "893ab70d",
   "metadata": {},
   "outputs": [
    {
     "name": "stdout",
     "output_type": "stream",
     "text": [
      "Requirement already satisfied: pandas in /Users/felipe/.pyenv/versions/3.13.3/lib/python3.13/site-packages (2.3.0)\n",
      "Requirement already satisfied: numpy>=1.26.0 in /Users/felipe/.pyenv/versions/3.13.3/lib/python3.13/site-packages (from pandas) (2.3.1)\n",
      "Requirement already satisfied: python-dateutil>=2.8.2 in /Users/felipe/.pyenv/versions/3.13.3/lib/python3.13/site-packages (from pandas) (2.9.0.post0)\n",
      "Requirement already satisfied: pytz>=2020.1 in /Users/felipe/.pyenv/versions/3.13.3/lib/python3.13/site-packages (from pandas) (2025.2)\n",
      "Requirement already satisfied: tzdata>=2022.7 in /Users/felipe/.pyenv/versions/3.13.3/lib/python3.13/site-packages (from pandas) (2025.2)\n",
      "Requirement already satisfied: six>=1.5 in /Users/felipe/.pyenv/versions/3.13.3/lib/python3.13/site-packages (from python-dateutil>=2.8.2->pandas) (1.17.0)\n",
      "Note: you may need to restart the kernel to use updated packages.\n",
      "Requirement already satisfied: numpy in /Users/felipe/.pyenv/versions/3.13.3/lib/python3.13/site-packages (2.3.1)\n",
      "Note: you may need to restart the kernel to use updated packages.\n",
      "Requirement already satisfied: matplotlib in /Users/felipe/.pyenv/versions/3.13.3/lib/python3.13/site-packages (3.10.3)\n",
      "Requirement already satisfied: contourpy>=1.0.1 in /Users/felipe/.pyenv/versions/3.13.3/lib/python3.13/site-packages (from matplotlib) (1.3.2)\n",
      "Requirement already satisfied: cycler>=0.10 in /Users/felipe/.pyenv/versions/3.13.3/lib/python3.13/site-packages (from matplotlib) (0.12.1)\n",
      "Requirement already satisfied: fonttools>=4.22.0 in /Users/felipe/.pyenv/versions/3.13.3/lib/python3.13/site-packages (from matplotlib) (4.58.4)\n",
      "Requirement already satisfied: kiwisolver>=1.3.1 in /Users/felipe/.pyenv/versions/3.13.3/lib/python3.13/site-packages (from matplotlib) (1.4.8)\n",
      "Requirement already satisfied: numpy>=1.23 in /Users/felipe/.pyenv/versions/3.13.3/lib/python3.13/site-packages (from matplotlib) (2.3.1)\n",
      "Requirement already satisfied: packaging>=20.0 in /Users/felipe/.pyenv/versions/3.13.3/lib/python3.13/site-packages (from matplotlib) (25.0)\n",
      "Requirement already satisfied: pillow>=8 in /Users/felipe/.pyenv/versions/3.13.3/lib/python3.13/site-packages (from matplotlib) (11.2.1)\n",
      "Requirement already satisfied: pyparsing>=2.3.1 in /Users/felipe/.pyenv/versions/3.13.3/lib/python3.13/site-packages (from matplotlib) (3.2.3)\n",
      "Requirement already satisfied: python-dateutil>=2.7 in /Users/felipe/.pyenv/versions/3.13.3/lib/python3.13/site-packages (from matplotlib) (2.9.0.post0)\n",
      "Requirement already satisfied: six>=1.5 in /Users/felipe/.pyenv/versions/3.13.3/lib/python3.13/site-packages (from python-dateutil>=2.7->matplotlib) (1.17.0)\n",
      "Note: you may need to restart the kernel to use updated packages.\n",
      "Requirement already satisfied: seaborn in /Users/felipe/.pyenv/versions/3.13.3/lib/python3.13/site-packages (0.13.2)\n",
      "Requirement already satisfied: numpy!=1.24.0,>=1.20 in /Users/felipe/.pyenv/versions/3.13.3/lib/python3.13/site-packages (from seaborn) (2.3.1)\n",
      "Requirement already satisfied: pandas>=1.2 in /Users/felipe/.pyenv/versions/3.13.3/lib/python3.13/site-packages (from seaborn) (2.3.0)\n",
      "Requirement already satisfied: matplotlib!=3.6.1,>=3.4 in /Users/felipe/.pyenv/versions/3.13.3/lib/python3.13/site-packages (from seaborn) (3.10.3)\n",
      "Requirement already satisfied: contourpy>=1.0.1 in /Users/felipe/.pyenv/versions/3.13.3/lib/python3.13/site-packages (from matplotlib!=3.6.1,>=3.4->seaborn) (1.3.2)\n",
      "Requirement already satisfied: cycler>=0.10 in /Users/felipe/.pyenv/versions/3.13.3/lib/python3.13/site-packages (from matplotlib!=3.6.1,>=3.4->seaborn) (0.12.1)\n",
      "Requirement already satisfied: fonttools>=4.22.0 in /Users/felipe/.pyenv/versions/3.13.3/lib/python3.13/site-packages (from matplotlib!=3.6.1,>=3.4->seaborn) (4.58.4)\n",
      "Requirement already satisfied: kiwisolver>=1.3.1 in /Users/felipe/.pyenv/versions/3.13.3/lib/python3.13/site-packages (from matplotlib!=3.6.1,>=3.4->seaborn) (1.4.8)\n",
      "Requirement already satisfied: packaging>=20.0 in /Users/felipe/.pyenv/versions/3.13.3/lib/python3.13/site-packages (from matplotlib!=3.6.1,>=3.4->seaborn) (25.0)\n",
      "Requirement already satisfied: pillow>=8 in /Users/felipe/.pyenv/versions/3.13.3/lib/python3.13/site-packages (from matplotlib!=3.6.1,>=3.4->seaborn) (11.2.1)\n",
      "Requirement already satisfied: pyparsing>=2.3.1 in /Users/felipe/.pyenv/versions/3.13.3/lib/python3.13/site-packages (from matplotlib!=3.6.1,>=3.4->seaborn) (3.2.3)\n",
      "Requirement already satisfied: python-dateutil>=2.7 in /Users/felipe/.pyenv/versions/3.13.3/lib/python3.13/site-packages (from matplotlib!=3.6.1,>=3.4->seaborn) (2.9.0.post0)\n",
      "Requirement already satisfied: pytz>=2020.1 in /Users/felipe/.pyenv/versions/3.13.3/lib/python3.13/site-packages (from pandas>=1.2->seaborn) (2025.2)\n",
      "Requirement already satisfied: tzdata>=2022.7 in /Users/felipe/.pyenv/versions/3.13.3/lib/python3.13/site-packages (from pandas>=1.2->seaborn) (2025.2)\n",
      "Requirement already satisfied: six>=1.5 in /Users/felipe/.pyenv/versions/3.13.3/lib/python3.13/site-packages (from python-dateutil>=2.7->matplotlib!=3.6.1,>=3.4->seaborn) (1.17.0)\n",
      "Note: you may need to restart the kernel to use updated packages.\n",
      "Requirement already satisfied: scikit-learn in /Users/felipe/.pyenv/versions/3.13.3/lib/python3.13/site-packages (1.5.2)\n",
      "Requirement already satisfied: numpy>=1.19.5 in /Users/felipe/.pyenv/versions/3.13.3/lib/python3.13/site-packages (from scikit-learn) (2.3.1)\n",
      "Requirement already satisfied: scipy>=1.6.0 in /Users/felipe/.pyenv/versions/3.13.3/lib/python3.13/site-packages (from scikit-learn) (1.16.0)\n",
      "Requirement already satisfied: joblib>=1.2.0 in /Users/felipe/.pyenv/versions/3.13.3/lib/python3.13/site-packages (from scikit-learn) (1.5.1)\n",
      "Requirement already satisfied: threadpoolctl>=3.1.0 in /Users/felipe/.pyenv/versions/3.13.3/lib/python3.13/site-packages (from scikit-learn) (3.6.0)\n",
      "Note: you may need to restart the kernel to use updated packages.\n",
      "Requirement already satisfied: dotenv in /Users/felipe/.pyenv/versions/3.13.3/lib/python3.13/site-packages (0.9.9)\n",
      "Requirement already satisfied: python-dotenv in /Users/felipe/.pyenv/versions/3.13.3/lib/python3.13/site-packages (from dotenv) (1.1.0)\n",
      "Note: you may need to restart the kernel to use updated packages.\n",
      "Requirement already satisfied: libsql in /Users/felipe/.pyenv/versions/3.13.3/lib/python3.13/site-packages (0.1.2)\n",
      "Note: you may need to restart the kernel to use updated packages.\n",
      "Collecting imblearn\n",
      "  Using cached imblearn-0.0-py2.py3-none-any.whl.metadata (355 bytes)\n",
      "Requirement already satisfied: imbalanced-learn in /Users/felipe/.pyenv/versions/3.13.3/lib/python3.13/site-packages (from imblearn) (0.13.0)\n",
      "Requirement already satisfied: numpy<3,>=1.24.3 in /Users/felipe/.pyenv/versions/3.13.3/lib/python3.13/site-packages (from imbalanced-learn->imblearn) (2.3.1)\n",
      "Requirement already satisfied: scipy<2,>=1.10.1 in /Users/felipe/.pyenv/versions/3.13.3/lib/python3.13/site-packages (from imbalanced-learn->imblearn) (1.16.0)\n",
      "Requirement already satisfied: scikit-learn<2,>=1.3.2 in /Users/felipe/.pyenv/versions/3.13.3/lib/python3.13/site-packages (from imbalanced-learn->imblearn) (1.5.2)\n",
      "Requirement already satisfied: sklearn-compat<1,>=0.1 in /Users/felipe/.pyenv/versions/3.13.3/lib/python3.13/site-packages (from imbalanced-learn->imblearn) (0.1.3)\n",
      "Requirement already satisfied: joblib<2,>=1.1.1 in /Users/felipe/.pyenv/versions/3.13.3/lib/python3.13/site-packages (from imbalanced-learn->imblearn) (1.5.1)\n",
      "Requirement already satisfied: threadpoolctl<4,>=2.0.0 in /Users/felipe/.pyenv/versions/3.13.3/lib/python3.13/site-packages (from imbalanced-learn->imblearn) (3.6.0)\n",
      "Using cached imblearn-0.0-py2.py3-none-any.whl (1.9 kB)\n",
      "Installing collected packages: imblearn\n",
      "Successfully installed imblearn-0.0\n",
      "Note: you may need to restart the kernel to use updated packages.\n",
      "Requirement already satisfied: libsql-client in /Users/felipe/.pyenv/versions/3.13.3/lib/python3.13/site-packages (0.3.1)\n",
      "Requirement already satisfied: aiohttp<4.0,>=3.0 in /Users/felipe/.pyenv/versions/3.13.3/lib/python3.13/site-packages (from libsql-client) (3.12.13)\n",
      "Requirement already satisfied: sphinx-press-theme<0.9.0,>=0.8.0 in /Users/felipe/.pyenv/versions/3.13.3/lib/python3.13/site-packages (from libsql-client) (0.8.0)\n",
      "Requirement already satisfied: typing-extensions<5.0,>=4.5 in /Users/felipe/.pyenv/versions/3.13.3/lib/python3.13/site-packages (from libsql-client) (4.14.0)\n",
      "Requirement already satisfied: aiohappyeyeballs>=2.5.0 in /Users/felipe/.pyenv/versions/3.13.3/lib/python3.13/site-packages (from aiohttp<4.0,>=3.0->libsql-client) (2.6.1)\n",
      "Requirement already satisfied: aiosignal>=1.1.2 in /Users/felipe/.pyenv/versions/3.13.3/lib/python3.13/site-packages (from aiohttp<4.0,>=3.0->libsql-client) (1.3.2)\n",
      "Requirement already satisfied: attrs>=17.3.0 in /Users/felipe/.pyenv/versions/3.13.3/lib/python3.13/site-packages (from aiohttp<4.0,>=3.0->libsql-client) (25.3.0)\n",
      "Requirement already satisfied: frozenlist>=1.1.1 in /Users/felipe/.pyenv/versions/3.13.3/lib/python3.13/site-packages (from aiohttp<4.0,>=3.0->libsql-client) (1.7.0)\n",
      "Requirement already satisfied: multidict<7.0,>=4.5 in /Users/felipe/.pyenv/versions/3.13.3/lib/python3.13/site-packages (from aiohttp<4.0,>=3.0->libsql-client) (6.5.0)\n",
      "Requirement already satisfied: propcache>=0.2.0 in /Users/felipe/.pyenv/versions/3.13.3/lib/python3.13/site-packages (from aiohttp<4.0,>=3.0->libsql-client) (0.3.2)\n",
      "Requirement already satisfied: yarl<2.0,>=1.17.0 in /Users/felipe/.pyenv/versions/3.13.3/lib/python3.13/site-packages (from aiohttp<4.0,>=3.0->libsql-client) (1.20.1)\n",
      "Requirement already satisfied: sphinx>=4.0.1 in /Users/felipe/.pyenv/versions/3.13.3/lib/python3.13/site-packages (from sphinx-press-theme<0.9.0,>=0.8.0->libsql-client) (8.2.3)\n",
      "Requirement already satisfied: idna>=2.0 in /Users/felipe/.pyenv/versions/3.13.3/lib/python3.13/site-packages (from yarl<2.0,>=1.17.0->aiohttp<4.0,>=3.0->libsql-client) (3.10)\n",
      "Requirement already satisfied: sphinxcontrib-applehelp>=1.0.7 in /Users/felipe/.pyenv/versions/3.13.3/lib/python3.13/site-packages (from sphinx>=4.0.1->sphinx-press-theme<0.9.0,>=0.8.0->libsql-client) (2.0.0)\n",
      "Requirement already satisfied: sphinxcontrib-devhelp>=1.0.6 in /Users/felipe/.pyenv/versions/3.13.3/lib/python3.13/site-packages (from sphinx>=4.0.1->sphinx-press-theme<0.9.0,>=0.8.0->libsql-client) (2.0.0)\n",
      "Requirement already satisfied: sphinxcontrib-htmlhelp>=2.0.6 in /Users/felipe/.pyenv/versions/3.13.3/lib/python3.13/site-packages (from sphinx>=4.0.1->sphinx-press-theme<0.9.0,>=0.8.0->libsql-client) (2.1.0)\n",
      "Requirement already satisfied: sphinxcontrib-jsmath>=1.0.1 in /Users/felipe/.pyenv/versions/3.13.3/lib/python3.13/site-packages (from sphinx>=4.0.1->sphinx-press-theme<0.9.0,>=0.8.0->libsql-client) (1.0.1)\n",
      "Requirement already satisfied: sphinxcontrib-qthelp>=1.0.6 in /Users/felipe/.pyenv/versions/3.13.3/lib/python3.13/site-packages (from sphinx>=4.0.1->sphinx-press-theme<0.9.0,>=0.8.0->libsql-client) (2.0.0)\n",
      "Requirement already satisfied: sphinxcontrib-serializinghtml>=1.1.9 in /Users/felipe/.pyenv/versions/3.13.3/lib/python3.13/site-packages (from sphinx>=4.0.1->sphinx-press-theme<0.9.0,>=0.8.0->libsql-client) (2.0.0)\n",
      "Requirement already satisfied: Jinja2>=3.1 in /Users/felipe/.pyenv/versions/3.13.3/lib/python3.13/site-packages (from sphinx>=4.0.1->sphinx-press-theme<0.9.0,>=0.8.0->libsql-client) (3.1.6)\n",
      "Requirement already satisfied: Pygments>=2.17 in /Users/felipe/.pyenv/versions/3.13.3/lib/python3.13/site-packages (from sphinx>=4.0.1->sphinx-press-theme<0.9.0,>=0.8.0->libsql-client) (2.19.2)\n",
      "Requirement already satisfied: docutils<0.22,>=0.20 in /Users/felipe/.pyenv/versions/3.13.3/lib/python3.13/site-packages (from sphinx>=4.0.1->sphinx-press-theme<0.9.0,>=0.8.0->libsql-client) (0.21.2)\n",
      "Requirement already satisfied: snowballstemmer>=2.2 in /Users/felipe/.pyenv/versions/3.13.3/lib/python3.13/site-packages (from sphinx>=4.0.1->sphinx-press-theme<0.9.0,>=0.8.0->libsql-client) (3.0.1)\n",
      "Requirement already satisfied: babel>=2.13 in /Users/felipe/.pyenv/versions/3.13.3/lib/python3.13/site-packages (from sphinx>=4.0.1->sphinx-press-theme<0.9.0,>=0.8.0->libsql-client) (2.17.0)\n",
      "Requirement already satisfied: alabaster>=0.7.14 in /Users/felipe/.pyenv/versions/3.13.3/lib/python3.13/site-packages (from sphinx>=4.0.1->sphinx-press-theme<0.9.0,>=0.8.0->libsql-client) (1.0.0)\n",
      "Requirement already satisfied: imagesize>=1.3 in /Users/felipe/.pyenv/versions/3.13.3/lib/python3.13/site-packages (from sphinx>=4.0.1->sphinx-press-theme<0.9.0,>=0.8.0->libsql-client) (1.4.1)\n",
      "Requirement already satisfied: requests>=2.30.0 in /Users/felipe/.pyenv/versions/3.13.3/lib/python3.13/site-packages (from sphinx>=4.0.1->sphinx-press-theme<0.9.0,>=0.8.0->libsql-client) (2.32.4)\n",
      "Requirement already satisfied: roman-numerals-py>=1.0.0 in /Users/felipe/.pyenv/versions/3.13.3/lib/python3.13/site-packages (from sphinx>=4.0.1->sphinx-press-theme<0.9.0,>=0.8.0->libsql-client) (3.1.0)\n",
      "Requirement already satisfied: packaging>=23.0 in /Users/felipe/.pyenv/versions/3.13.3/lib/python3.13/site-packages (from sphinx>=4.0.1->sphinx-press-theme<0.9.0,>=0.8.0->libsql-client) (25.0)\n",
      "Requirement already satisfied: MarkupSafe>=2.0 in /Users/felipe/.pyenv/versions/3.13.3/lib/python3.13/site-packages (from Jinja2>=3.1->sphinx>=4.0.1->sphinx-press-theme<0.9.0,>=0.8.0->libsql-client) (3.0.2)\n",
      "Requirement already satisfied: charset_normalizer<4,>=2 in /Users/felipe/.pyenv/versions/3.13.3/lib/python3.13/site-packages (from requests>=2.30.0->sphinx>=4.0.1->sphinx-press-theme<0.9.0,>=0.8.0->libsql-client) (3.4.2)\n",
      "Requirement already satisfied: urllib3<3,>=1.21.1 in /Users/felipe/.pyenv/versions/3.13.3/lib/python3.13/site-packages (from requests>=2.30.0->sphinx>=4.0.1->sphinx-press-theme<0.9.0,>=0.8.0->libsql-client) (2.5.0)\n",
      "Requirement already satisfied: certifi>=2017.4.17 in /Users/felipe/.pyenv/versions/3.13.3/lib/python3.13/site-packages (from requests>=2.30.0->sphinx>=4.0.1->sphinx-press-theme<0.9.0,>=0.8.0->libsql-client) (2025.6.15)\n",
      "Note: you may need to restart the kernel to use updated packages.\n"
     ]
    }
   ],
   "source": [
    "%pip install pandas\n",
    "%pip install numpy\n",
    "%pip install matplotlib\n",
    "%pip install seaborn\n",
    "%pip install scikit-learn\n",
    "%pip install dotenv\n",
    "%pip install libsql\n",
    "%pip install imblearn\n",
    "%pip install libsql-client\n"
   ]
  },
  {
   "cell_type": "code",
   "execution_count": 2,
   "id": "08cf7d50",
   "metadata": {},
   "outputs": [
    {
     "data": {
      "text/plain": [
       "True"
      ]
     },
     "execution_count": 2,
     "metadata": {},
     "output_type": "execute_result"
    }
   ],
   "source": [
    "import pandas as pd\n",
    "import numpy as np\n",
    "from dotenv import load_dotenv\n",
    "import os\n",
    "from libsql_client import create_client\n",
    "import libsql\n",
    "import json\n",
    "import ast\n",
    "\n",
    "load_dotenv()"
   ]
  },
  {
   "cell_type": "code",
   "execution_count": 3,
   "id": "31205539",
   "metadata": {},
   "outputs": [
    {
     "name": "stdout",
     "output_type": "stream",
     "text": [
      "Connecting to the database...\n"
     ]
    }
   ],
   "source": [
    "print(\"Connecting to the database...\")\n",
    "\n",
    "\n",
    "url = os.getenv(\"TURSO_DATABASE_URL\")\n",
    "auth_token = os.getenv(\"TURSO_AUTH_TOKEN\")\n",
    "\n",
    "conn = libsql.connect(\"hello.db\", sync_url=url, auth_token=auth_token) # type: ignore\n",
    "conn.sync()\n"
   ]
  },
  {
   "cell_type": "code",
   "execution_count": 4,
   "id": "728f078b",
   "metadata": {},
   "outputs": [],
   "source": [
    "def fetch_data(conn,query):\n",
    "    \"\"\"\n",
    "    Fetch data from the database using the provided query.\n",
    "    \"\"\"\n",
    "    try:\n",
    "        result = conn.execute(query).fetchall()\n",
    "        columns = [desc[0] for desc in conn.execute(query).description]\n",
    "        embedding_status = pd.DataFrame(result, columns=columns)\n",
    "        return embedding_status\n",
    "    except Exception as e:\n",
    "        print(f\"Error fetching data: {e}\")\n",
    "        return pd.DataFrame()"
   ]
  },
  {
   "cell_type": "code",
   "execution_count": 5,
   "id": "99cf765c",
   "metadata": {},
   "outputs": [],
   "source": [
    "from email.mime import application\n",
    "\n",
    "\n",
    "query_embedding = \"\"\"\n",
    "select *\n",
    "from embedded_application\n",
    "\"\"\"\n",
    "\n",
    "embedding = fetch_data(conn, query_embedding)\n",
    "\n",
    "\n",
    "query_application_status = \"\"\"\n",
    "select * \n",
    "from application_status\n",
    "\"\"\"\n",
    "\n",
    "application_status = fetch_data(conn, query_application_status)\n",
    "\n",
    "\n",
    "\n",
    "embedding_status = pd.merge(embedding, application_status, left_on=\"application_id\",right_on=\"id\", how=\"left\")\n",
    "embedding_status = embedding_status[[\"company_and_application_embedding\",\"status\"]]\n",
    "embedding_status[\"status\"] = embedding_status[\"status\"].apply(lambda x: 1 if x in [\"ACCEPTED\",\"SELECTED\",\"HIRED\",\"FINISHED\"] else 0)\n"
   ]
  },
  {
   "cell_type": "code",
   "execution_count": 6,
   "id": "8b8449f2",
   "metadata": {},
   "outputs": [],
   "source": [
    "\n",
    "# Paso 1: Elimina saltos de línea y parsea la string como lista\n",
    "embedding_status['parsed_embedding'] = embedding_status['company_and_application_embedding'].apply(\n",
    "    lambda x: ast.literal_eval(x.replace('\\n', '').strip())\n",
    ")\n",
    "\n",
    "# Paso 2: Verifica el resultado\n",
    "\n"
   ]
  },
  {
   "cell_type": "markdown",
   "id": "06bd2950",
   "metadata": {},
   "source": [
    "# Pipeline de entrenamiento"
   ]
  },
  {
   "cell_type": "code",
   "execution_count": 9,
   "id": "87687355",
   "metadata": {},
   "outputs": [
    {
     "name": "stdout",
     "output_type": "stream",
     "text": [
      "🔎 Mejores parámetros: {'clf__max_depth': 5, 'clf__max_features': 'log2', 'clf__min_samples_split': 10, 'clf__n_estimators': 100}\n",
      "⭐ Mejor precisión CV (clase 1): 0.7125\n",
      "Precision en test (clase 1): 0.5000\n",
      "              precision    recall  f1-score   support\n",
      "\n",
      "           0       0.71      0.77      0.74        13\n",
      "           1       0.50      0.43      0.46         7\n",
      "\n",
      "    accuracy                           0.65        20\n",
      "   macro avg       0.61      0.60      0.60        20\n",
      "weighted avg       0.64      0.65      0.64        20\n",
      "\n"
     ]
    },
    {
     "data": {
      "image/png": "[encoded data removed]",
      "text/plain": [
       "<Figure size 800x600 with 1 Axes>"
      ]
     },
     "metadata": {},
     "output_type": "display_data"
    },
    {
     "name": "stdout",
     "output_type": "stream",
     "text": [
      "🔧 Mejor threshold según Accuracy: 0.45\n",
      "📈 Accuracy con threshold óptimo: 0.8000\n",
      "Precision (threshold 0.45): 0.6364\n",
      "              precision    recall  f1-score   support\n",
      "\n",
      "           0       1.00      0.69      0.82        13\n",
      "           1       0.64      1.00      0.78         7\n",
      "\n",
      "    accuracy                           0.80        20\n",
      "   macro avg       0.82      0.85      0.80        20\n",
      "weighted avg       0.87      0.80      0.80        20\n",
      "\n"
     ]
    }
   ],
   "source": [
    "from random import Random\n",
    "from re import X\n",
    "import matplotlib.pyplot as plt\n",
    "import numpy as np\n",
    "from imblearn.over_sampling import SMOTE\n",
    "from imblearn.pipeline import Pipeline\n",
    "\n",
    "from sklearn.compose import ColumnTransformer\n",
    "from sklearn.ensemble import RandomForestClassifier\n",
    "from sklearn.metrics import (\n",
    "    classification_report,\n",
    "    make_scorer,\n",
    "    precision_score,\n",
    "    roc_auc_score,\n",
    "    roc_curve,\n",
    "    accuracy_score,\n",
    ")\n",
    "from sklearn.model_selection import GridSearchCV, train_test_split\n",
    "from sklearn.preprocessing import StandardScaler\n",
    "\n",
    "X = np.array(embedding_status['parsed_embedding'].tolist())\n",
    "y = np.array(embedding_status['status'])\n",
    "X_train, X_test, y_train, y_test = train_test_split(X, y, test_size=0.2, random_state=42)\n",
    "\n",
    "pipeline = Pipeline(\n",
    "    [\n",
    "        (\"smote\", SMOTE(random_state=42)),\n",
    "        (\"clf\",RandomForestClassifier(random_state=42, n_jobs=-1, class_weight=\"balanced\", max_depth=10, n_estimators=100))\n",
    "    ]\n",
    ")\n",
    "\n",
    "param_grid = {\n",
    "    \"clf__n_estimators\": [50,60, 100, 200],\n",
    "    \"clf__max_depth\": [5, 10,15, 20],\n",
    "    \"clf__max_features\": [\"sqrt\", \"log2\"],\n",
    "    \"clf__min_samples_split\": [2,4, 5, 10],\n",
    "}\n",
    "\n",
    "grid_search = GridSearchCV(\n",
    "    estimator=pipeline,\n",
    "    param_grid=param_grid,\n",
    "    scoring=\"accuracy\",\n",
    "    cv=5,\n",
    "    n_jobs=-1,\n",
    "    verbose=0,\n",
    ")\n",
    "grid_search.fit(X_train, y_train)\n",
    "\n",
    "# 7) Resultados\n",
    "print(\"🔎 Mejores parámetros:\", grid_search.best_params_)  # noqa: T201\n",
    "print(f\"⭐ Mejor precisión CV (clase 1): {grid_search.best_score_:.4f}\")  # noqa: T201\n",
    "\n",
    "best_model = grid_search.best_estimator_\n",
    "# 8) Evaluación en test\n",
    "\n",
    "y_pred = best_model.predict(X_test)\n",
    "prec_test = precision_score(y_test, y_pred, pos_label=1)\n",
    "print(f\"Precision en test (clase 1): {prec_test:.4f}\")  # noqa: T201\n",
    "print(classification_report(y_test, y_pred))  # noqa: T201\n",
    "\n",
    "# 9) Curva ROC y AUC\n",
    "y_prob = best_model.predict_proba(X_test)[:, 1]\n",
    "fpr, tpr, thresholds = roc_curve(y_test, y_prob)\n",
    "auc = roc_auc_score(y_test, y_prob)\n",
    "\n",
    "plt.figure(figsize=(8, 6))\n",
    "plt.plot(fpr, tpr, label=f\"ROC curve (AUC = {auc:.2f})\")\n",
    "plt.plot([0,1],[0,1], linestyle=\"--\", color=\"gray\")\n",
    "plt.xlabel(\"False Positive Rate\")\n",
    "plt.ylabel(\"True Positive Rate\")\n",
    "plt.title(\"ROC Curve – LDA\")  # noqa: RUF001\n",
    "plt.legend(loc=\"lower right\")\n",
    "plt.grid(True)  # noqa: FBT003\n",
    "plt.show()\n",
    "\n",
    "# 10) Umbral óptimo según Accuracy  # noqa: RUF003\n",
    "accuracies = []\n",
    "for thr in thresholds:\n",
    "    y_pred_thr = (y_prob >= thr).astype(int)\n",
    "    acc = accuracy_score(y_test, y_pred_thr)\n",
    "    accuracies.append(acc)\n",
    "best_threshold = thresholds[np.argmax(accuracies)]\n",
    "best_accuracy = max(accuracies)\n",
    "print(f\"🔧 Mejor threshold según Accuracy: {best_threshold:.2f}\")  # noqa: T201\n",
    "print(f\"📈 Accuracy con threshold óptimo: {best_accuracy:.4f}\")  # noqa: T201\n",
    "\n",
    "# 11) Evaluación con threshold personalizado\n",
    "y_pred_custom = (y_prob >= best_threshold).astype(int)\n",
    "prec_custom = precision_score(y_test, y_pred_custom, pos_label=1)\n",
    "print(f\"Precision (threshold {best_threshold:.2f}): {prec_custom:.4f}\")  # noqa: T201\n",
    "print(classification_report(y_test, y_pred_custom))  # noqa: T201"
   ]
  },
  {
   "cell_type": "code",
   "execution_count": 10,
   "id": "2ce9dce7",
   "metadata": {},
   "outputs": [
    {
     "data": {
      "text/plain": [
       "['../best_model/best_model.pkl']"
      ]
     },
     "execution_count": 10,
     "metadata": {},
     "output_type": "execute_result"
    }
   ],
   "source": [
    "import joblib\n",
    "\n",
    "joblib.dump(best_model.named_steps[\"clf\"], \"../best_model/best_model.pkl\")\n"
   ]
  }
 ],
 "metadata": {
  "kernelspec": {
   "display_name": "3.13.3",
   "language": "python",
   "name": "python3"
  },
  "language_info": {
   "codemirror_mode": {
    "name": "ipython",
    "version": 3
   },
   "file_extension": ".py",
   "mimetype": "text/x-python",
   "name": "python",
   "nbconvert_exporter": "python",
   "pygments_lexer": "ipython3",
   "version": "3.13.3"
  }
 },
 "nbformat": 4,
 "nbformat_minor": 5
}
